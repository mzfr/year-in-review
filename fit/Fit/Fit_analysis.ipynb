{
 "cells": [
  {
   "cell_type": "code",
   "execution_count": 2,
   "metadata": {},
   "outputs": [],
   "source": [
    "import csv\n",
    "import pandas as pd\n",
    "import matplotlib.pyplot as plt\n",
    "import calplot\n",
    "from datetime import datetime\n",
    "from dateutil import parser"
   ]
  },
  {
   "cell_type": "code",
   "execution_count": 23,
   "metadata": {},
   "outputs": [],
   "source": [
    "from pyecharts.charts import Bar, Calendar, Pie\n",
    "from pyecharts.globals import CurrentConfig, NotebookType\n",
    "from pyecharts import options as opts\n",
    "from pyecharts.globals import ThemeType\n",
    "from snapshot_selenium import snapshot\n",
    "from pyecharts.render import make_snapshot"
   ]
  },
  {
   "cell_type": "code",
   "execution_count": 5,
   "metadata": {},
   "outputs": [],
   "source": [
    "# Reading Step count data from both mifit and google fit\n",
    "StepCount = {}\n",
    "\n",
    "# mifit data\n",
    "with open(\"/home/mzfr/dev/year-in-review/fit/mifit/ACTIVITY/ACTIVITY_1605643103723.csv\", \"r\") as f:\n",
    "    data = csv.DictReader(f)\n",
    "    for activity in data:\n",
    "        date = datetime.strptime(activity[\"\\ufeffdate\"], \"%Y-%m-%d\")\n",
    "        if date.year != 2020:\n",
    "            continue\n",
    "        StepCount[date] = int(activity[\"steps\"])\n",
    "\n",
    "# Google Fit data\n",
    "with open(\"/home/mzfr/dev/year-in-review/fit/Fit/Daily Aggregations/Daily Summaries.csv\", \"r\") as f:\n",
    "    data = csv.DictReader(f)\n",
    "    for summary in data:\n",
    "        date = datetime.strptime(summary[\"Date\"], \"%Y-%m-%d\")\n",
    "        if date.year != 2020: # Keeping data just for 2020\n",
    "            continue\n",
    "        if date not in StepCount:\n",
    "            try:\n",
    "                StepCount[date] = int(summary[\"Step count\"])\n",
    "            except ValueError:\n",
    "                print(date)"
   ]
  },
  {
   "cell_type": "code",
   "execution_count": 14,
   "metadata": {},
   "outputs": [
    {
     "data": {
      "text/plain": [
       "(<Figure size 900x122.4 with 2 Axes>, array([<AxesSubplot:>], dtype=object))"
      ]
     },
     "execution_count": 14,
     "metadata": {},
     "output_type": "execute_result"
    },
    {
     "data": {
      "image/png": "[encoded data removed]",
      "text/plain": [
       "<Figure size 900x122.4 with 2 Axes>"
      ]
     },
     "metadata": {
      "needs_background": "light"
     },
     "output_type": "display_data"
    }
   ],
   "source": [
    "# Step Count\n",
    "\n",
    "series = pd.Series(StepCount)\n",
    "calplot.calplot(series, cmap='YlGn', edgecolor=None, yearlabels=False)"
   ]
  },
  {
   "cell_type": "code",
   "execution_count": 21,
   "metadata": {},
   "outputs": [],
   "source": [
    "SleepTime = []\n",
    "## Sleep data from MiFit\n",
    "\n",
    "with open(\"SLEEP_1674225693405.csv\", \"r\") as f:\n",
    "    data = csv.DictReader(f)\n",
    "    for sleep in data:\n",
    "        date = datetime.strptime(sleep[\"\\ufeffdate\"], \"%Y-%m-%d\")\n",
    "        if date.year == 2022:\n",
    "            start = parser.parse(sleep['start'])\n",
    "            stop = parser.parse(sleep['stop'])\n",
    "\n",
    "            total = stop-start\n",
    "            SleepTime.append([date.strftime('%Y-%m-%d'), total.seconds//3600])\n",
    "        \n"
   ]
  },
  {
   "cell_type": "code",
   "execution_count": 24,
   "metadata": {},
   "outputs": [
    {
     "data": {
      "text/plain": [
       "'/home/pwnbox/dev/year-in-review/fit/Fit/render.html'"
      ]
     },
     "execution_count": 24,
     "metadata": {},
     "output_type": "execute_result"
    }
   ],
   "source": [
    "cal = Calendar()\n",
    "cal.add(\"\", SleepTime, calendar_opts=opts.CalendarOpts(range_=\"2022\"))\n",
    "cal.set_global_opts(\n",
    "        title_opts=opts.TitleOpts(title=\"Phone Usage\", subtitle=\"Hours per day\"),\n",
    "        visualmap_opts=opts.VisualMapOpts(\n",
    "            max_=40,\n",
    "            min_=0,\n",
    "            orient=\"horizontal\",\n",
    "            is_piecewise=True,\n",
    "            pos_top=\"230px\",\n",
    "            pos_left=\"100px\",\n",
    "        ),\n",
    "    )\n",
    "cal.render()\n",
    "\n",
    "# make_snapshot(snapshot, cal.render(), 'PC_usage_heatmap.png')"
   ]
  }
 ],
 "metadata": {
  "kernelspec": {
   "display_name": "Python 3",
   "language": "python",
   "name": "python3"
  },
  "language_info": {
   "codemirror_mode": {
    "name": "ipython",
    "version": 3
   },
   "file_extension": ".py",
   "mimetype": "text/x-python",
   "name": "python",
   "nbconvert_exporter": "python",
   "pygments_lexer": "ipython3",
   "version": "3.8.10"
  },
  "vscode": {
   "interpreter": {
    "hash": "31f2aee4e71d21fbe5cf8b01ff0e069b9275f58929596ceb00d14d90e3e16cd6"
   }
  }
 },
 "nbformat": 4,
 "nbformat_minor": 4
}
