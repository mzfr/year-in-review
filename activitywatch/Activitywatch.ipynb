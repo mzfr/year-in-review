{
 "cells": [
  {
   "cell_type": "code",
   "execution_count": null,
   "id": "19f0f769",
   "metadata": {},
   "outputs": [],
   "source": [
    "import json\n",
    "from datetime import datetime\n",
    "from dateutil import parser\n",
    "import pandas as pd\n",
    "#import calplot\n",
    "import matplotlib.pyplot as plt\n",
    "from urllib.parse import urlparse"
   ]
  },
  {
   "cell_type": "code",
   "execution_count": null,
   "id": "29fb782d",
   "metadata": {},
   "outputs": [],
   "source": [
    "from pyecharts.charts import Bar, Calendar, Pie\n",
    "from pyecharts.globals import CurrentConfig, NotebookType\n",
    "from pyecharts import options as opts\n",
    "from pyecharts.globals import ThemeType\n",
    "#from snapshot_selenium import snapshot\n",
    "from pyecharts.render import make_snapshot"
   ]
  },
  {
   "cell_type": "code",
   "execution_count": null,
   "id": "25002be2",
   "metadata": {},
   "outputs": [],
   "source": [
    "with open(\"aw-buckets-export.json\", \"r\") as f:\n",
    "    data = json.load(f)\n",
    "\n",
    "with open(\"aw-buckets-export_mac.json\", \"r\") as f:\n",
    "    mac_data = json.load(f)"
   ]
  },
  {
   "cell_type": "code",
   "execution_count": null,
   "id": "0e35e504",
   "metadata": {},
   "outputs": [],
   "source": [
    "# Extracting Information from Windows PC watcher\n",
    "\n",
    "app_usage = {}\n",
    "dayrecord = {}\n",
    "total_duration = 0.0\n",
    "\n",
    "for event in data['buckets']['aw-watcher-window_pc']['events']:\n",
    "    date = parser.parse(event[\"timestamp\"]).strftime(\"%Y-%m-%d\")\n",
    "    duration = event['duration']\n",
    "    appname = event['data']['app']\n",
    "        \n",
    "    if \"2023\" in date:\n",
    "        total_duration += duration\n",
    "        if appname in app_usage:\n",
    "            app_usage[appname] = duration + app_usage[appname]\n",
    "        else:\n",
    "            app_usage[appname] = duration\n",
    "    \n",
    "        if appname != 'LockApp.exe':\n",
    "            if date in dayrecord:\n",
    "                dayrecord[date] += duration\n",
    "            else:\n",
    "                dayrecord[date] = duration"
   ]
  },
  {
   "cell_type": "code",
   "execution_count": null,
   "id": "84c16f53-a859-4f38-89f1-4a2a70d9e564",
   "metadata": {},
   "outputs": [],
   "source": [
    "# Getting information From mac watcher\n",
    "\n",
    "mapp_usage = {}\n",
    "mdayrecord = {}\n",
    "mtotal_duration = 0.0\n",
    "\n",
    "for event in mac_data['buckets']['aw-watcher-window_mac.local']['events']:\n",
    "    date = parser.parse(event[\"timestamp\"]).strftime(\"%Y-%m-%d\")\n",
    "    duration = event['duration']\n",
    "    appname = event['data']['app']\n",
    "        \n",
    "    if \"2023\" in date:\n",
    "        mtotal_duration += duration\n",
    "        if appname in mapp_usage:\n",
    "            mapp_usage[appname] = duration + mapp_usage[appname]\n",
    "        else:\n",
    "            mapp_usage[appname] = duration\n",
    "    \n",
    "        if appname != 'loginwindow':\n",
    "            if date in mdayrecord:\n",
    "                mdayrecord[date] += duration\n",
    "            else:\n",
    "                mdayrecord[date] = duration"
   ]
  },
  {
   "cell_type": "code",
   "execution_count": null,
   "id": "0be0a087",
   "metadata": {},
   "outputs": [],
   "source": [
    "hours = total_duration//3600\n",
    "print(\"Total PC Usage in hours: \", hours)\n",
    "print(\"Total PC Usage in days: \", hours//24)"
   ]
  },
  {
   "cell_type": "code",
   "execution_count": null,
   "id": "df77c9e9-4842-431c-8f69-c1158c1d6d72",
   "metadata": {},
   "outputs": [],
   "source": [
    "dayrecord"
   ]
  },
  {
   "cell_type": "code",
   "execution_count": null,
   "id": "d32a8fee",
   "metadata": {},
   "outputs": [],
   "source": [
    "app_usage_hourly = {}\n",
    "mapp_usage_hourly = {}\n",
    "\n",
    "for k,v in app_usage.items():\n",
    "    usage_time = int(v//3600)\n",
    "    if usage_time > 10:\n",
    "        app_usage_hourly[k[:-4]] = usage_time\n",
    "\n",
    "for k,v in mapp_usage.items():\n",
    "    usage_time = int(v//3600)\n",
    "    if usage_time > 10:\n",
    "        mapp_usage_hourly[k] = usage_time\n",
    "\n",
    "print(app_usage_hourly)\n",
    "print(mapp_usage_hourly)"
   ]
  },
  {
   "cell_type": "code",
   "execution_count": null,
   "id": "861ec2e6-5787-467d-8cf3-68910066e412",
   "metadata": {},
   "outputs": [],
   "source": [
    "for k,v in mapp_usage_hourly.items():\n",
    "    if k in app_usage_hourly:\n",
    "        app_usage_hourly[k] += v\n",
    "    else:\n",
    "        app_usage_hourly[k] = v\n",
    "app_usage_hourly = dict(sorted(app_usage_hourly.items(), key=lambda item: item[1], reverse=True))\n",
    "print(app_usage_hourly)"
   ]
  },
  {
   "cell_type": "code",
   "execution_count": null,
   "id": "8e6be03d",
   "metadata": {},
   "outputs": [],
   "source": [
    "pie = Pie(init_opts=opts.InitOpts(theme=ThemeType.CHALK))\n",
    "\n",
    "t = [list(z) for z in zip(app_usage_hourly.keys(), app_usage_hourly.values())]\n",
    "pie.add(\"\", t)\n",
    "pie.set_global_opts(legend_opts=opts.LegendOpts(is_show=False), title_opts=opts.TitleOpts(title=\"Application Usage (in hours)\",  pos_left=\"right\",))\n",
    "pie.set_series_opts(label_opts=opts.LabelOpts(formatter=\"{b}: {c}\"))\n",
    "pie.render()\n",
    "#make_snapshot(snapshot, pie.render(), \"pc_app_usage.png\")"
   ]
  },
  {
   "attachments": {},
   "cell_type": "markdown",
   "id": "1e27b698",
   "metadata": {},
   "source": [
    "# Heatmap for PC usage"
   ]
  },
  {
   "cell_type": "code",
   "execution_count": null,
   "id": "cf6bffa8-05f5-4e74-827c-13897ac772cc",
   "metadata": {},
   "outputs": [],
   "source": [
    "for k,v in mdayrecord.items():\n",
    "    if k in dayrecord:\n",
    "        dayrecord[k] += v\n",
    "    else:\n",
    "        dayrecord[k] = v"
   ]
  },
  {
   "cell_type": "code",
   "execution_count": null,
   "id": "d3d2e99e-2280-4958-9cb7-ceb94cc08a19",
   "metadata": {},
   "outputs": [],
   "source": [
    "len(dayrecord)"
   ]
  },
  {
   "cell_type": "code",
   "execution_count": null,
   "id": "16ec89fa",
   "metadata": {},
   "outputs": [],
   "source": [
    "dataToPlot = []\n",
    "\n",
    "for k,v in dayrecord.items():\n",
    "    date_ = datetime.strptime(k, \"%Y-%m-%d\")    \n",
    "    if date_.year == 2023:\n",
    "        dataToPlot.append([date_.strftime('%Y-%m-%d'),int(v)//3600])\n"
   ]
  },
  {
   "cell_type": "code",
   "execution_count": null,
   "id": "bc8a545a",
   "metadata": {},
   "outputs": [],
   "source": [
    "cal = Calendar()\n",
    "cal.add(\"\", dataToPlot, calendar_opts=opts.CalendarOpts(range_=\"2023\"))\n",
    "cal.set_global_opts(\n",
    "        title_opts=opts.TitleOpts(title=\"PC Usage\", subtitle=\"Hours per day\"),\n",
    "        visualmap_opts=opts.VisualMapOpts(\n",
    "            max_=40,\n",
    "            min_=0,\n",
    "            orient=\"horizontal\",\n",
    "            is_piecewise=True,\n",
    "            pos_top=\"230px\",\n",
    "            pos_left=\"100px\",\n",
    "        ),\n",
    "    )\n",
    "cal.render()\n",
    "\n",
    "#make_snapshot(snapshot, cal.render(), 'PC_usage_heatmap.png')"
   ]
  },
  {
   "attachments": {},
   "cell_type": "markdown",
   "id": "9ae35983",
   "metadata": {},
   "source": [
    "# Diving into Firefox"
   ]
  },
  {
   "cell_type": "code",
   "execution_count": null,
   "id": "010a5560",
   "metadata": {},
   "outputs": [],
   "source": [
    "def extract_firefox_info(data):\n",
    "    website_record = {}\n",
    "    total_duration = 0\n",
    "\n",
    "    for event in data['buckets']['aw-watcher-web-firefox']['events']:\n",
    "        date = parser.parse(event[\"timestamp\"]).strftime(\"%Y-%m-%d\")\n",
    "        duration = event['duration']\n",
    "        # website = event['data']['title']\n",
    "        website = urlparse(event['data']['url']).netloc\n",
    "    \n",
    "        if \"2023\" in date:\n",
    "            total_duration += duration\n",
    "            if website in website_record:\n",
    "                website_record[website] = duration + website_record[website]\n",
    "            else:\n",
    "                website_record[website] = duration\n",
    "    return website_record, total_duration\n",
    "\n",
    "wr,td = extract_firefox_info(data)\n",
    "mwr, mtd = extract_firefox_info(mac_data)"
   ]
  },
  {
   "cell_type": "code",
   "execution_count": null,
   "id": "12456ef0-7d6b-4895-b404-668aa9c194f4",
   "metadata": {},
   "outputs": [],
   "source": [
    "for k,v in wr.items():\n",
    "    if k in mwr:\n",
    "        mwr[k] += v\n",
    "    else:\n",
    "        mwr[k] = v"
   ]
  },
  {
   "cell_type": "code",
   "execution_count": null,
   "id": "da8e7ca8",
   "metadata": {},
   "outputs": [],
   "source": [
    "website_hr_usage = {}\n",
    "\n",
    "for k,v in mwr.items():\n",
    "    usage_time = int(v//3600)\n",
    "    if usage_time > 10:\n",
    "        website_hr_usage[k] = usage_time\n",
    "\n",
    "sorted_website_hr_usage = dict(sorted(website_hr_usage.items(), key=lambda item: item[1], reverse=True))\n"
   ]
  },
  {
   "cell_type": "code",
   "execution_count": null,
   "id": "d20e38fa",
   "metadata": {},
   "outputs": [],
   "source": [
    "pie = Pie(init_opts=opts.InitOpts(theme=ThemeType.CHALK))\n",
    "tj = [list(z) for z in zip(sorted_website_hr_usage.keys(), sorted_website_hr_usage.values())]\n",
    "pie.add(\"\", tj)\n",
    "pie.set_global_opts(legend_opts=opts.LegendOpts(is_show=False), title_opts=opts.TitleOpts(title=\"Most Websites opened in firefox (in hours)\",  pos_left=\"right\",))\n",
    "pie.set_series_opts(label_opts=opts.LabelOpts(formatter=\"{b}: {c}\"))\n",
    "pie.render()\n",
    "#make_snapshot(snapshot, pie.render(), \"firefox_websites.png\")"
   ]
  },
  {
   "cell_type": "code",
   "execution_count": null,
   "id": "3475cff6-1655-4839-bb69-a0c69a7036ed",
   "metadata": {},
   "outputs": [],
   "source": []
  }
 ],
 "metadata": {
  "kernelspec": {
   "display_name": "Python 3 (ipykernel)",
   "language": "python",
   "name": "python3"
  },
  "language_info": {
   "codemirror_mode": {
    "name": "ipython",
    "version": 3
   },
   "file_extension": ".py",
   "mimetype": "text/x-python",
   "name": "python",
   "nbconvert_exporter": "python",
   "pygments_lexer": "ipython3",
   "version": "3.11.6"
  },
  "vscode": {
   "interpreter": {
    "hash": "31f2aee4e71d21fbe5cf8b01ff0e069b9275f58929596ceb00d14d90e3e16cd6"
   }
  }
 },
 "nbformat": 4,
 "nbformat_minor": 5
}
