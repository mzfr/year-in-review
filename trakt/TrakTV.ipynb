{
 "cells": [
  {
   "attachments": {},
   "cell_type": "markdown",
   "metadata": {},
   "source": [
    "### This is old file, checkout the Traktv_2022.ipynb"
   ]
  },
  {
   "cell_type": "code",
   "execution_count": null,
   "metadata": {},
   "outputs": [],
   "source": [
    "import csv\n",
    "#import calplot\n",
    "import pandas as pd\n",
    "import matplotlib.pyplot as plt\n",
    "from imdb import IMDb\n",
    "from datetime import datetime"
   ]
  },
  {
   "cell_type": "code",
   "execution_count": null,
   "metadata": {},
   "outputs": [],
   "source": [
    "from pyecharts.charts import Bar\n",
    "from pyecharts.globals import CurrentConfig, NotebookType\n",
    "from pyecharts import options as opts\n",
    "from pyecharts.globals import ThemeType\n",
    "from snapshot_selenium import snapshot\n",
    "from pyecharts.render import make_snapshot"
   ]
  },
  {
   "cell_type": "code",
   "execution_count": null,
   "metadata": {},
   "outputs": [],
   "source": [
    "import trakt.core\n",
    "trakt.core.AUTH_METHOD = trakt.core.OAUTH_AUTH\n",
    "trakt.core.init(\"mzfr\", client_id=\"\", client_secret=\"\", store=True)\n"
   ]
  },
  {
   "cell_type": "code",
   "execution_count": null,
   "metadata": {},
   "outputs": [],
   "source": [
    "from trakt.movies import Movie\n",
    "from trakt.tv import TVShow"
   ]
  },
  {
   "cell_type": "code",
   "execution_count": null,
   "metadata": {},
   "outputs": [],
   "source": [
    "# Download loads of information and might take sometime to run\n",
    "\n",
    "movies_info = {}\n",
    "\n",
    "with open(\"export_movies_history.csv\", \"r\") as f:\n",
    "    movies = csv.DictReader(f)\n",
    "    for movie in movies:\n",
    "        date_str = datetime.strptime(movie[\"watched_at\"], \"%Y-%m-%dT%H:%M:%S.%fZ\").strftime(\"%Y-%m-%d\")\n",
    "        date = datetime.strptime(date_str, \"%Y-%m-%d\")\n",
    "        if date.year != 2022:\n",
    "            continue\n",
    "        else:\n",
    "            code = movie[\"trakt\"]\n",
    "\n",
    "            if code in movies_info:\n",
    "                movies_info[code]['count'] += 1\n",
    "            else:\n",
    "                movies_info[code] = {}\n",
    "                movies_info[code]['count'] = 1\n",
    "                movies_info[code]['date'] = date\n",
    "                \n",
    "                movie_details = Movie(code)\n",
    "                movies_info[code]['runtime'] = movie_details.runtime\n",
    "                movies_info[code]['genres'] = movie_details.genres\n"
   ]
  },
  {
   "cell_type": "code",
   "execution_count": null,
   "metadata": {},
   "outputs": [],
   "source": [
    "# In this I took out information for all the years.\n",
    "# If you are doing this then don't run the above cell because that\n",
    "# was just for a year\n",
    "\n",
    "detailed_info = {}\n",
    "\n",
    "with open(\"export_movies_history.csv\", \"r\") as f:\n",
    "    movies = csv.DictReader(f)\n",
    "    for movie in movies:\n",
    "        date_str = datetime.strptime(movie[\"watched_at\"], \"%Y-%m-%dT%H:%M:%S.%fZ\").strftime(\"%Y-%m-%d\")\n",
    "        date = datetime.strptime(date_str, \"%Y-%m-%d\")\n",
    "        code = movie[\"trakt\"]\n",
    "\n",
    "        if code in detailed_info:\n",
    "            detailed_info[code]['count'] += 1\n",
    "        else:\n",
    "            detailed_info[code] = {}\n",
    "            detailed_info[code]['count'] = 1\n",
    "            detailed_info[code]['date'] = date\n",
    "            \n",
    "            movie_details = Movie(code)\n",
    "            detailed_info[code]['runtime'] = movie_details.runtime\n",
    "            detailed_info[code]['genres'] = movie_details.genres"
   ]
  },
  {
   "cell_type": "code",
   "execution_count": null,
   "metadata": {},
   "outputs": [],
   "source": [
    "# Trying to compare genre's watched from two years\n",
    "\n",
    "yearly_genre = {\"2022\":{}, \"2021\": {}}\n",
    "for _, movie in detailed_info.items():\n",
    "    yr = str(movie['date'].year)\n",
    "    if yr not in ['2022', '2021']:\n",
    "        continue\n",
    "    for g in movie['genres']:\n",
    "        if g in yearly_genre[yr]:\n",
    "            yearly_genre[yr][g] += 1\n",
    "        else:\n",
    "            yearly_genre[yr][g] = 1\n"
   ]
  },
  {
   "cell_type": "code",
   "execution_count": null,
   "metadata": {},
   "outputs": [],
   "source": [
    "# Merging the information obtained from previous cell\n",
    "from collections import defaultdict\n",
    "dd = defaultdict(list)\n",
    "\n",
    "for d in (yearly_genre['2022'], yearly_genre['2021']):\n",
    "    for key, value in d.items():\n",
    "        dd[key].append(value)"
   ]
  },
  {
   "cell_type": "code",
   "execution_count": null,
   "metadata": {},
   "outputs": [],
   "source": [
    "# This cell take information from the movies_info cell and gives you the count of genre of a specific year only\n",
    "# Good for Single year chart\n",
    "totalTime = 0\n",
    "genres = {}\n",
    "for code, info in movies_info.items():\n",
    "    if info['date'].year != 2022:\n",
    "        continue\n",
    "    totalTime += int(info['runtime'])\n",
    "    for g in info[\"genres\"]:\n",
    "        if g in genres:\n",
    "            genres[g] += 1\n",
    "        else:\n",
    "            genres[g] = 1    "
   ]
  },
  {
   "cell_type": "code",
   "execution_count": null,
   "metadata": {},
   "outputs": [],
   "source": [
    "CurrentConfig.NOTEBOOK_TYPE = NotebookType.JUPYTER_LAB\n",
    "data = dict(sorted(genres.items(), key=lambda item: item[1], reverse=True))\n",
    "bar = Bar(init_opts=opts.InitOpts(theme=ThemeType.VINTAGE))\n",
    "\n",
    "vals = list(data.values())\n",
    "genre = list(data.keys())\n",
    "bar.add_yaxis(\"No.Movies\", vals)\n",
    "bar.add_xaxis(genre)\n",
    "bar.reversal_axis()\n",
    "bar.set_series_opts(label_opts=opts.LabelOpts(position=None))\n",
    "# bar.render()\n",
    "make_snapshot(snapshot, bar.render(), \"movies_genre_2022.png\")\n"
   ]
  },
  {
   "cell_type": "code",
   "execution_count": null,
   "metadata": {
    "scrolled": true
   },
   "outputs": [],
   "source": [
    "# Use Pyechart instead\n",
    "# This cell depends on pandas/matplotlib so maybe don't use it :)\n",
    "\n",
    "print(\"TotalTime spent watching movies: \", totalTime//60, \"hr\")\n",
    "\n",
    "data = dict(sorted(genres.items(), key=lambda item: item[1], reverse=True))\n",
    "genre_df = pd.DataFrame(data.items(), columns=[\"Genre\", \"No. of Movies\"])\n",
    "genre_df.plot(kind=\"barh\", x=0,y=1, figsize=(10,5), color='blue')\n"
   ]
  },
  {
   "cell_type": "code",
   "execution_count": null,
   "metadata": {},
   "outputs": [],
   "source": [
    "tvShows = {}\n",
    "dayWiseTV = {}\n",
    "with open(\"export_shows_history.csv\", \"r\") as f:\n",
    "    shows = csv.DictReader(f)\n",
    "    for show in shows:\n",
    "        date_str = datetime.strptime(show[\"watched_at\"], \"%Y-%m-%dT%H:%M:%S.%fZ\").strftime(\"%Y-%m-%d\")\n",
    "        date = datetime.strptime(date_str, \"%Y-%m-%d\")\n",
    "        code = show[\"trakt\"]\n",
    "        if date.year != 2021:\n",
    "            continue\n",
    "        else:\n",
    "            if code in tvShows:\n",
    "                tvShows[code][\"count\"] += 1\n",
    "            else:\n",
    "                tvShows[code] = {}\n",
    "                tvShows[code][\"count\"] = 1\n",
    "                tvShows[code][\"date\"] = date_str\n",
    "#                 imdb_info = ia.get_movie(code)\n",
    "                # Some indian shows didn't had these values\n",
    "                show = TVShow(code)\n",
    "                tvShows[code][\"runtime\"] = show.runtime\n",
    "                tvShows[code][\"genres\"] = show.genres\n",
    "\n",
    "            if date in dayWiseTV:\n",
    "                dayWiseTV[date] += 1\n",
    "            else:\n",
    "                dayWiseTV[date] = 1"
   ]
  },
  {
   "cell_type": "code",
   "execution_count": null,
   "metadata": {},
   "outputs": [],
   "source": [
    "totalTvTime = 0\n",
    "tvGenres = {}\n",
    "for code, info in tvShows.items():\n",
    "    if \"2021\" not in info['date']:\n",
    "        continue\n",
    "    if \"runtime\" in info:\n",
    "        # Even on imdb the data is bit uneven\n",
    "        # For some shows the runtime tells you the complete runtime of the show\n",
    "        # Ex: The Queen's gambit there are 7 episode and total time of 6h 33 min\n",
    "        #     So runtime for that was 393 instead of 1 episode\n",
    "        # That is why here if any show have the runtime of more than an hour that\n",
    "        #  means it the total time and not the time of an episode\n",
    "        if int(info[\"runtime\"]) > 60:\n",
    "            totalTvTime += int(info[\"runtime\"])\n",
    "        else:\n",
    "            totalTvTime += (int(info['runtime'])*info[\"count\"])\n",
    "    if \"genres\" in info:\n",
    "        for g in info[\"genres\"]:\n",
    "            if g in tvGenres:\n",
    "                tvGenres[g] += 1\n",
    "            else:\n",
    "                tvGenres[g] = 1  "
   ]
  },
  {
   "cell_type": "code",
   "execution_count": null,
   "metadata": {},
   "outputs": [],
   "source": [
    "print(\"TotalTime spent watching TV Shows: \", totalTvTime//60, \"hr\")\n",
    "\n",
    "data = dict(sorted(tvGenres.items(), key=lambda item: item[1], reverse=True))\n",
    "tvgenre_df = pd.DataFrame(data.items(), columns=[\"Genre\", \"Count\"])\n",
    "tvgenre_df.plot(kind=\"barh\", x=0,y=1, figsize=(10,5), color='blue')"
   ]
  },
  {
   "cell_type": "code",
   "execution_count": null,
   "metadata": {},
   "outputs": [],
   "source": [
    "dataToPlot = {}\n",
    "\n",
    "for k,v in dayWiseTV.items():\n",
    "    if k.year == 2021:\n",
    "        dataToPlot[k] = v\n",
    "\n",
    "series = pd.Series(dataToPlot)\n",
    "calplot.calplot(series, cmap='YlGn', edgecolor=None, yearlabels=False)"
   ]
  }
 ],
 "metadata": {
  "kernelspec": {
   "display_name": "venv",
   "language": "python",
   "name": "venv"
  },
  "language_info": {
   "codemirror_mode": {
    "name": "ipython",
    "version": 3
   },
   "file_extension": ".py",
   "mimetype": "text/x-python",
   "name": "python",
   "nbconvert_exporter": "python",
   "pygments_lexer": "ipython3",
   "version": "3.11.6"
  },
  "vscode": {
   "interpreter": {
    "hash": "31f2aee4e71d21fbe5cf8b01ff0e069b9275f58929596ceb00d14d90e3e16cd6"
   }
  }
 },
 "nbformat": 4,
 "nbformat_minor": 4
}
