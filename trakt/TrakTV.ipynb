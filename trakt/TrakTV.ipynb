{
 "cells": [
  {
   "cell_type": "code",
   "execution_count": 1,
   "metadata": {},
   "outputs": [],
   "source": [
    "import csv\n",
    "import calplot\n",
    "import pandas as pd\n",
    "import matplotlib.pyplot as plt\n",
    "from imdb import IMDb\n",
    "from datetime import datetime\n",
    "import trakt.core\n",
    "from trakt.movies import Movie\n",
    "from trakt.tv import TVShow"
   ]
  },
  {
   "cell_type": "code",
   "execution_count": null,
   "metadata": {},
   "outputs": [],
   "source": [
    "trakt.core.AUTH_METHOD = trakt.core.OAUTH_AUTH\n",
    "trakt.core.init(\"mzfr\", store=True)"
   ]
  },
  {
   "cell_type": "code",
   "execution_count": 14,
   "metadata": {},
   "outputs": [],
   "source": [
    "# Download loads of information and might take sometime to run\n",
    "\n",
    "movies_info = {}\n",
    "\n",
    "ia = IMDb()\n",
    "\n",
    "with open(\"export_movie_history.csv\", \"r\") as f:\n",
    "    movies = csv.DictReader(f)\n",
    "    for movie in movies:\n",
    "        date_str = datetime.strptime(movie[\"watched_at\"], \"%Y-%m-%dT%H:%M:%S.%fZ\").strftime(\"%Y-%m-%d\")\n",
    "        date = datetime.strptime(date_str, \"%Y-%m-%d\")\n",
    "        if date.year != 2021:\n",
    "            continue\n",
    "        else:\n",
    "#         code = movie[\"imdb\"][2:] # This is for imdb package\n",
    "            code = movie[\"trakt\"]\n",
    "\n",
    "            if code in movies_info:\n",
    "                movies_info[code]['count'] += 1\n",
    "            else:\n",
    "                movies_info[code] = {}\n",
    "                movies_info[code]['count'] = 1\n",
    "                movies_info[code]['date'] = date\n",
    "    #             imdb_info = ia.get_movie(code)\n",
    "                movie_details = Movie(code) # This is using the trakt package and getting information from trakt.tv website\n",
    "                movies_info[code]['runtime'] = movie_details.runtime\n",
    "                movies_info[code]['genres'] = movie_details.genres"
   ]
  },
  {
   "cell_type": "code",
   "execution_count": 19,
   "metadata": {},
   "outputs": [],
   "source": [
    "totalTime = 0\n",
    "genres = {}\n",
    "# print(movies_info)\n",
    "for code, info in movies_info.items():\n",
    "    if info['date'].year != 2021:\n",
    "        continue\n",
    "    totalTime += int(info['runtime'])\n",
    "    for g in info[\"genres\"]:\n",
    "        if g in genres:\n",
    "            genres[g] += 1\n",
    "        else:\n",
    "            genres[g] = 1    "
   ]
  },
  {
   "cell_type": "code",
   "execution_count": 31,
   "metadata": {
    "scrolled": true
   },
   "outputs": [
    {
     "name": "stdout",
     "output_type": "stream",
     "text": [
      "TotalTime spent watching movies:  58 hr\n"
     ]
    },
    {
     "data": {
      "text/plain": [
       "<AxesSubplot:ylabel='Genre'>"
      ]
     },
     "execution_count": 31,
     "metadata": {},
     "output_type": "execute_result"
    },
    {
     "data": {
      "image/png": "[encoded data removed]",
      "text/plain": [
       "<Figure size 720x360 with 1 Axes>"
      ]
     },
     "metadata": {
      "needs_background": "light"
     },
     "output_type": "display_data"
    }
   ],
   "source": [
    "print(\"TotalTime spent watching movies: \", totalTime//60, \"hr\")\n",
    "\n",
    "data = dict(sorted(genres.items(), key=lambda item: item[1], reverse=True))\n",
    "genre_df = pd.DataFrame(data.items(), columns=[\"Genre\", \"No. of Movies\"])\n",
    "genre_df.plot(kind=\"barh\", x=0,y=1, figsize=(10,5), color='blue')"
   ]
  },
  {
   "cell_type": "code",
   "execution_count": 22,
   "metadata": {},
   "outputs": [],
   "source": [
    "tvShows = {}\n",
    "dayWiseTV = {}\n",
    "with open(\"export_shows_history.csv\", \"r\") as f:\n",
    "    shows = csv.DictReader(f)\n",
    "    for show in shows:\n",
    "        date_str = datetime.strptime(show[\"watched_at\"], \"%Y-%m-%dT%H:%M:%S.%fZ\").strftime(\"%Y-%m-%d\")\n",
    "        date = datetime.strptime(date_str, \"%Y-%m-%d\")\n",
    "        code = show[\"trakt\"]\n",
    "        if date.year != 2021:\n",
    "            continue\n",
    "        else:\n",
    "            if code in tvShows:\n",
    "                tvShows[code][\"count\"] += 1\n",
    "            else:\n",
    "                tvShows[code] = {}\n",
    "                tvShows[code][\"count\"] = 1\n",
    "                tvShows[code][\"date\"] = date_str\n",
    "#                 imdb_info = ia.get_movie(code)\n",
    "                # Some indian shows didn't had these values\n",
    "                show = TVShow(code)\n",
    "                tvShows[code][\"runtime\"] = show.runtime\n",
    "                tvShows[code][\"genres\"] = show.genres\n",
    "\n",
    "            if date in dayWiseTV:\n",
    "                dayWiseTV[date] += 1\n",
    "            else:\n",
    "                dayWiseTV[date] = 1"
   ]
  },
  {
   "cell_type": "code",
   "execution_count": 38,
   "metadata": {},
   "outputs": [],
   "source": [
    "totalTvTime = 0\n",
    "tvGenres = {}\n",
    "for code, info in tvShows.items():\n",
    "    if \"2021\" not in info['date']:\n",
    "        continue\n",
    "    if \"runtime\" in info:\n",
    "        # Even on imdb the data is bit uneven\n",
    "        # For some shows the runtime tells you the complete runtime of the show\n",
    "        # Ex: The Queen's gambit there are 7 episode and total time of 6h 33 min\n",
    "        #     So runtime for that was 393 instead of 1 episode\n",
    "        # That is why here if any show have the runtime of more than an hour that\n",
    "        #  means it the total time and not the time of an episode\n",
    "        if int(info[\"runtime\"]) > 60:\n",
    "            totalTvTime += int(info[\"runtime\"])\n",
    "        else:\n",
    "            totalTvTime += (int(info['runtime'])*info[\"count\"])\n",
    "    if \"genres\" in info:\n",
    "        for g in info[\"genres\"]:\n",
    "            if g in tvGenres:\n",
    "                tvGenres[g] += 1\n",
    "            else:\n",
    "                tvGenres[g] = 1  "
   ]
  },
  {
   "cell_type": "code",
   "execution_count": 40,
   "metadata": {},
   "outputs": [
    {
     "name": "stdout",
     "output_type": "stream",
     "text": [
      "TotalTime spent watching TV Shows:  672 hr\n"
     ]
    },
    {
     "data": {
      "text/plain": [
       "<AxesSubplot:ylabel='Genre'>"
      ]
     },
     "execution_count": 40,
     "metadata": {},
     "output_type": "execute_result"
    },
    {
     "data": {
      "image/png": "[encoded data removed]",
      "text/plain": [
       "<Figure size 720x360 with 1 Axes>"
      ]
     },
     "metadata": {
      "needs_background": "light"
     },
     "output_type": "display_data"
    }
   ],
   "source": [
    "print(\"TotalTime spent watching TV Shows: \", totalTvTime//60, \"hr\")\n",
    "\n",
    "data = dict(sorted(tvGenres.items(), key=lambda item: item[1], reverse=True))\n",
    "tvgenre_df = pd.DataFrame(data.items(), columns=[\"Genre\", \"Count\"])\n",
    "tvgenre_df.plot(kind=\"barh\", x=0,y=1, figsize=(10,5), color='blue')"
   ]
  },
  {
   "cell_type": "code",
   "execution_count": 41,
   "metadata": {},
   "outputs": [
    {
     "data": {
      "text/plain": [
       "(<Figure size 900x122.4 with 2 Axes>, array([<AxesSubplot:>], dtype=object))"
      ]
     },
     "execution_count": 41,
     "metadata": {},
     "output_type": "execute_result"
    },
    {
     "data": {
      "image/png": "[encoded data removed]",
      "text/plain": [
       "<Figure size 900x122.4 with 2 Axes>"
      ]
     },
     "metadata": {
      "needs_background": "light"
     },
     "output_type": "display_data"
    }
   ],
   "source": [
    "dataToPlot = {}\n",
    "\n",
    "for k,v in dayWiseTV.items():\n",
    "    if k.year == 2021:\n",
    "        dataToPlot[k] = v\n",
    "\n",
    "series = pd.Series(dataToPlot)\n",
    "calplot.calplot(series, cmap='YlGn', edgecolor=None, yearlabels=False)"
   ]
  }
 ],
 "metadata": {
  "kernelspec": {
   "display_name": "Python 3 (ipykernel)",
   "language": "python",
   "name": "python3"
  },
  "language_info": {
   "codemirror_mode": {
    "name": "ipython",
    "version": 3
   },
   "file_extension": ".py",
   "mimetype": "text/x-python",
   "name": "python",
   "nbconvert_exporter": "python",
   "pygments_lexer": "ipython3",
   "version": "3.8.10"
  }
 },
 "nbformat": 4,
 "nbformat_minor": 4
}
