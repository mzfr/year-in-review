{
 "cells": [
  {
   "cell_type": "code",
   "execution_count": null,
   "metadata": {},
   "outputs": [],
   "source": [
    "import csv\n",
    "from collections import defaultdict\n",
    "from datetime import datetime\n",
    "\n",
    "from pyecharts.charts import Bar, Calendar\n",
    "from pyecharts.globals import CurrentConfig, NotebookType\n",
    "from pyecharts import options as opts\n",
    "from pyecharts.globals import ThemeType\n",
    "from snapshot_selenium import snapshot\n",
    "from pyecharts.render import make_snapshot"
   ]
  },
  {
   "cell_type": "code",
   "execution_count": null,
   "metadata": {},
   "outputs": [],
   "source": [
    "import trakt.core\n",
    "from trakt.movies import Movie\n",
    "from trakt.tv import TVShow\n",
    "\n",
    "trakt.core.AUTH_METHOD = trakt.core.OAUTH_AUTH\n",
    "trakt.core.init(\"mzfr\", client_id=\"\", client_secret=\"\", store=True)"
   ]
  },
  {
   "cell_type": "code",
   "execution_count": null,
   "metadata": {},
   "outputs": [],
   "source": [
    "def get_date_informat(date: str, local=False):\n",
    "    if local:\n",
    "        date_str = datetime.strptime(date, \"%Y-%m-%d %H:%M:%S\").strftime(\"%Y-%m-%d\")\n",
    "    else:\n",
    "        date_str = datetime.strptime(date, \"%Y-%m-%dT%H:%M:%S.%fZ\").strftime(\"%Y-%m-%d\")\n",
    "    return datetime.strptime(date_str, \"%Y-%m-%d\")"
   ]
  },
  {
   "attachments": {},
   "cell_type": "markdown",
   "metadata": {},
   "source": [
    "# Working with Movie Data"
   ]
  },
  {
   "cell_type": "code",
   "execution_count": null,
   "metadata": {},
   "outputs": [],
   "source": [
    "# In this I took out information for all the years.\n",
    "# If you are doing this then don't run the above cell because that\n",
    "# was just for a year\n",
    "\n",
    "detailed_info = {}\n",
    "\n",
    "with open(\"export_movies_history.csv\", \"r\") as f:\n",
    "    movies = csv.DictReader(f)\n",
    "    for movie in movies:\n",
    "        date = get_date_informat(movie[\"watched_at\"])\n",
    "        code = movie[\"trakt\"]\n",
    "\n",
    "        if code in detailed_info:\n",
    "            detailed_info[code]['count'] += 1\n",
    "        else:\n",
    "            detailed_info[code] = {}\n",
    "            detailed_info[code]['count'] = 1\n",
    "            detailed_info[code]['date'] = date\n",
    "            \n",
    "            movie_details = Movie(code)\n",
    "            detailed_info[code]['runtime'] = movie_details.runtime\n",
    "            detailed_info[code]['genres'] = movie_details.genres"
   ]
  },
  {
   "cell_type": "code",
   "execution_count": null,
   "metadata": {},
   "outputs": [],
   "source": [
    "# From the above cell you can save(json.dump) the data into a new file \n",
    "# so that way you can play with the data without having to do a API call via trakt package\n",
    "\n",
    "import json\n",
    "\n",
    "with open('detailed_info.json', 'r') as f:\n",
    "    detailed_info = json.load(f)"
   ]
  },
  {
   "cell_type": "code",
   "execution_count": null,
   "metadata": {},
   "outputs": [],
   "source": [
    "totalTime = 0\n",
    "for _, v in detailed_info.items():\n",
    "    yr = get_date_informat(v['date'], local=True)\n",
    "    if yr.year == 2022:\n",
    "        totalTime = totalTime + v['runtime']\n",
    "\n",
    "print(totalTime)"
   ]
  },
  {
   "cell_type": "code",
   "execution_count": null,
   "metadata": {},
   "outputs": [],
   "source": [
    "# Trying to compare genre's watched from multiple years\n",
    "\n",
    "yearly_genre = {\"2022\":{}, \"2021\": {}, \"2020\": {}, \"2019\": {}}\n",
    "for _, movie in detailed_info.items():\n",
    "    date = get_date_informat(movie['date'], local=True)\n",
    "    yr = str(date.year)\n",
    "    if yr not in ['2022', '2021', '2020', '2019']:\n",
    "        continue\n",
    "    for g in movie['genres']:\n",
    "        if g in yearly_genre[yr]:\n",
    "            yearly_genre[yr][g] += 1\n",
    "        else:\n",
    "            yearly_genre[yr][g] = 1\n"
   ]
  },
  {
   "cell_type": "code",
   "execution_count": null,
   "metadata": {},
   "outputs": [],
   "source": [
    "def multi_year_formatting(yearly_genre, limit):\n",
    "    \"\"\"This function is something bogus. Maybe there is an \n",
    "    efficient and clear way to do this but basically I am \n",
    "    merging multi year genre information and then removing \n",
    "    all those genres whose sum is less then 25, this way we \n",
    "    will have a clearner multi year graph\n",
    "\n",
    "    Args:\n",
    "        yearly_genre (dict): dictionary of format {'2022': {'genre1':1},'2021': {'genre1':3}}\n",
    "    \"\"\"\n",
    "    dd = defaultdict(list)\n",
    "\n",
    "    for yr, genre in yearly_genre.items():\n",
    "        for key, value in genre.items():\n",
    "            dd[key].append(value)\n",
    "    \n",
    "    multi_yr_genres = {}\n",
    "\n",
    "    for k, val in dd.items():\n",
    "        if sum(val) >= limit:\n",
    "            multi_yr_genres[k] = val\n",
    "    \n",
    "    return multi_yr_genres"
   ]
  },
  {
   "cell_type": "code",
   "execution_count": null,
   "metadata": {},
   "outputs": [],
   "source": [
    "t1 = []\n",
    "t2 = []\n",
    "t3 = []\n",
    "t4 = []\n",
    "multi_yr_genres = multi_year_formatting(yearly_genre, 25)\n",
    "for _, val in multi_yr_genres.items():\n",
    "      t1.append(val[0])\n",
    "      t2.append(val[1])\n",
    "      t3.append(val[2])\n",
    "      t4.append(val[3])\n"
   ]
  },
  {
   "cell_type": "code",
   "execution_count": null,
   "metadata": {},
   "outputs": [],
   "source": [
    "bar = Bar(init_opts=opts.InitOpts(theme=ThemeType.PURPLE_PASSION))\n",
    "genre = list(multi_yr_genres.keys())\n",
    "bar.add_xaxis(genre)\n",
    "bar.add_yaxis(\"2022\", t1)\n",
    "bar.add_yaxis(\"2021\", t2)\n",
    "bar.add_yaxis(\"2020\", t3)\n",
    "# bar.add_yaxis(\"2019\", t4)\n",
    "\n",
    "# bar.reversal_axis()\n",
    "bar.set_series_opts(label_opts=opts.LabelOpts(position=None))\n",
    "bar.set_global_opts(title_opts=opts.TitleOpts(title=\"Movies\"))\n",
    "# bar.render()\n",
    "make_snapshot(snapshot, bar.render(), \"movies_genre_multi.png\")"
   ]
  },
  {
   "attachments": {},
   "cell_type": "markdown",
   "metadata": {},
   "source": [
    "# TV Shows graphs"
   ]
  },
  {
   "cell_type": "code",
   "execution_count": null,
   "metadata": {},
   "outputs": [],
   "source": [
    "tvShows = {}\n",
    "dayWiseTV = {}\n",
    "with open(\"export_shows_history.csv\", \"r\") as f:\n",
    "    shows = csv.DictReader(f)\n",
    "    for show in shows:\n",
    "        date = get_date_informat(show[\"watched_at\"])\n",
    "        code = show[\"trakt\"]\n",
    "        if date.year not in [2022, 2021]:\n",
    "            continue\n",
    "        else:\n",
    "            if code in tvShows:\n",
    "                tvShows[code][\"count\"] += 1\n",
    "            else:\n",
    "                tvShows[code] = {}\n",
    "                tvShows[code][\"count\"] = 1\n",
    "                tvShows[code][\"date\"] = date\n",
    "\n",
    "                show = TVShow(code)\n",
    "                tvShows[code][\"runtime\"] = show.runtime\n",
    "                tvShows[code][\"genres\"] = show.genres\n",
    "\n",
    "            if date in dayWiseTV:\n",
    "                dayWiseTV[date] += 1\n",
    "            else:\n",
    "                dayWiseTV[date] = 1"
   ]
  },
  {
   "cell_type": "code",
   "execution_count": null,
   "metadata": {},
   "outputs": [],
   "source": [
    "# Dump into a file just to be safe\n",
    "\n",
    "import json\n",
    "with open('tvShows.json', 'w') as f:\n",
    "    json.dump(tvShows, f, indent=4, sort_keys=True, default=str)"
   ]
  },
  {
   "cell_type": "code",
   "execution_count": null,
   "metadata": {},
   "outputs": [],
   "source": [
    "totalTvTime = 0\n",
    "tvGenres = {2022:{}, 2021: {}}\n",
    "for code, info in tvShows.items():\n",
    "    yr = info['date'].year\n",
    "    if \"runtime\" in info and yr == 2022:\n",
    "        if int(info[\"runtime\"]) > 60:\n",
    "            totalTvTime += int(info[\"runtime\"])\n",
    "        else:\n",
    "            totalTvTime += (int(info['runtime'])*info[\"count\"])\n",
    "    if \"genres\" in info:\n",
    "        for g in info[\"genres\"]:\n",
    "            if g in tvGenres[yr]:\n",
    "                tvGenres[yr][g] += 1\n",
    "            else:\n",
    "                tvGenres[yr][g] = 1  "
   ]
  },
  {
   "cell_type": "code",
   "execution_count": null,
   "metadata": {},
   "outputs": [],
   "source": [
    "# Chart for single year\n",
    "\n",
    "bar = Bar(init_opts=opts.InitOpts(theme=ThemeType.DARK))\n",
    "genre = list(tvGenres[2022].keys())\n",
    "vals = list(tvGenres[2022].values())\n",
    "\n",
    "bar.add_xaxis(genre)\n",
    "bar.add_yaxis('TV Shows', vals)\n",
    "\n",
    "bar.reversal_axis()\n",
    "bar.set_series_opts(label_opts=opts.LabelOpts(position=None))\n",
    "# bar.set_global_opts(title_opts=opts.TitleOpts(title=\"TV Show\"))\n",
    "# bar.render()\n",
    "make_snapshot(snapshot, bar.render(), \"shows_genre_2022.png\")"
   ]
  },
  {
   "cell_type": "code",
   "execution_count": null,
   "metadata": {},
   "outputs": [],
   "source": [
    "t1 = []\n",
    "t2 = []\n",
    "multi_yr_genres = multi_year_formatting(tvGenres, 15)\n",
    "print(multi_yr_genres)\n",
    "for _, val in multi_yr_genres.items():\n",
    "      t1.append(val[0])\n",
    "      t2.append(val[1])\n"
   ]
  },
  {
   "cell_type": "code",
   "execution_count": null,
   "metadata": {},
   "outputs": [],
   "source": [
    "bar = Bar(init_opts=opts.InitOpts(theme=ThemeType.PURPLE_PASSION))\n",
    "genre = list(multi_yr_genres.keys())\n",
    "bar.add_xaxis(genre)\n",
    "\n",
    "bar.add_yaxis(\"2022\", t1)\n",
    "bar.add_yaxis(\"2021\", t2)\n",
    "\n",
    "bar.reversal_axis()\n",
    "bar.set_series_opts(label_opts=opts.LabelOpts(position=None))\n",
    "bar.set_global_opts(title_opts=opts.TitleOpts(title=\"TV Show\"))\n",
    "# bar.render()\n",
    "make_snapshot(snapshot, bar.render(), \"shows_genre_multi.png\")"
   ]
  },
  {
   "attachments": {},
   "cell_type": "markdown",
   "metadata": {},
   "source": [
    "# Calendar Heatmap for Show WatchTime"
   ]
  },
  {
   "cell_type": "code",
   "execution_count": null,
   "metadata": {},
   "outputs": [],
   "source": [
    "calendar_data = []\n",
    "for k,v in dayWiseTV.items():\n",
    "    if k.year == 2022:\n",
    "        calendar_data.append([str(k).split()[0],v])\n",
    "\n",
    "\n",
    "calendar_data.reverse()\n",
    "print(calendar_data)"
   ]
  },
  {
   "cell_type": "code",
   "execution_count": null,
   "metadata": {},
   "outputs": [],
   "source": [
    "cal = Calendar()\n",
    "cal.add(\"\", calendar_data, calendar_opts=opts.CalendarOpts(range_=\"2022\"))\n",
    "cal.set_global_opts(\n",
    "        title_opts=opts.TitleOpts(title=\"TV Show Heatmap\", subtitle=\"Episodes per day\"),\n",
    "        visualmap_opts=opts.VisualMapOpts(\n",
    "            max_=40,\n",
    "            min_=0,\n",
    "            orient=\"horizontal\",\n",
    "            is_piecewise=True,\n",
    "            pos_top=\"230px\",\n",
    "            pos_left=\"100px\",\n",
    "        ),\n",
    "    )\n",
    "# cal.render()\n",
    "\n",
    "make_snapshot(snapshot, cal.render(), 'shows_heatmap.png')"
   ]
  }
 ],
 "metadata": {
  "kernelspec": {
   "display_name": "Python 3",
   "language": "python",
   "name": "python3"
  },
  "language_info": {
   "codemirror_mode": {
    "name": "ipython",
    "version": 3
   },
   "file_extension": ".py",
   "mimetype": "text/x-python",
   "name": "python",
   "nbconvert_exporter": "python",
   "pygments_lexer": "ipython3",
   "version": "3.8.10"
  },
  "orig_nbformat": 4,
  "vscode": {
   "interpreter": {
    "hash": "916dbcbb3f70747c44a77c7bcd40155683ae19c65e1c03b4aa3499c5328201f1"
   }
  }
 },
 "nbformat": 4,
 "nbformat_minor": 2
}
