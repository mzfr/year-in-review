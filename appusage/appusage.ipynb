{
 "cells": [
  {
   "cell_type": "code",
   "execution_count": null,
   "id": "63f570d1",
   "metadata": {},
   "outputs": [],
   "source": [
    "import csv\n",
    "import pandas as pd"
   ]
  },
  {
   "cell_type": "code",
   "execution_count": null,
   "id": "42d6a95b",
   "metadata": {},
   "outputs": [],
   "source": [
    "with open(\"usage.csv\", \"r\") as f:\n",
    "    usage_time = csv.reader(f)\n",
    "    for row in usage_time:\n",
    "        print(row)"
   ]
  },
  {
   "cell_type": "code",
   "execution_count": null,
   "id": "8f6b6e97",
   "metadata": {},
   "outputs": [],
   "source": [
    "df = pd.read_csv(\"usage.csv\", skiprows=221)"
   ]
  },
  {
   "cell_type": "code",
   "execution_count": null,
   "id": "a7c31e71",
   "metadata": {},
   "outputs": [],
   "source": [
    "total_time = 0\n",
    "for ttime in df['Usage time'][:-3]:\n",
    "    hr, min_, sec = ttime.split(\":\")\n",
    "    total_time += 60*int(hr) + int(min_) + int(sec)//60"
   ]
  },
  {
   "cell_type": "code",
   "execution_count": null,
   "id": "f79bbbaf",
   "metadata": {},
   "outputs": [],
   "source": [
    "hours = total_time//60\n",
    "days = hours//24\n",
    "\n",
    "print(\"Total Phone Usage in hours: \", hours)\n",
    "print(\"Total Phone Usage in days: \", days)"
   ]
  }
 ],
 "metadata": {
  "kernelspec": {
   "display_name": "Python 3 (ipykernel)",
   "language": "python",
   "name": "python3"
  },
  "language_info": {
   "codemirror_mode": {
    "name": "ipython",
    "version": 3
   },
   "file_extension": ".py",
   "mimetype": "text/x-python",
   "name": "python",
   "nbconvert_exporter": "python",
   "pygments_lexer": "ipython3",
   "version": "3.11.6"
  }
 },
 "nbformat": 4,
 "nbformat_minor": 5
}
