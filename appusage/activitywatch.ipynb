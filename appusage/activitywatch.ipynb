{
 "cells": [
  {
   "cell_type": "code",
   "execution_count": null,
   "metadata": {},
   "outputs": [],
   "source": [
    "from pyecharts.charts import Bar, Calendar, Pie\n",
    "from pyecharts.globals import CurrentConfig, NotebookType\n",
    "from pyecharts import options as opts\n",
    "from pyecharts.globals import ThemeType\n",
    "from pyecharts.render import make_snapshot"
   ]
  },
  {
   "cell_type": "code",
   "execution_count": null,
   "metadata": {},
   "outputs": [],
   "source": [
    "import json\n",
    "from datetime import datetime\n",
    "from dateutil import parser\n",
    "from urllib.parse import urlparse"
   ]
  },
  {
   "cell_type": "code",
   "execution_count": null,
   "metadata": {},
   "outputs": [],
   "source": [
    "with open(\"aw-buckets-export_mobile.json\", \"r\") as f:\n",
    "    data = json.load(f)"
   ]
  },
  {
   "cell_type": "code",
   "execution_count": null,
   "metadata": {},
   "outputs": [],
   "source": [
    "total_duration = 0.0\n",
    "app_usage = {}\n",
    "dayrecord = {}\n",
    "\n",
    "for event in data['buckets']['aw-watcher-android-test']['events']:\n",
    "    date = parser.parse(event[\"timestamp\"]).strftime(\"%Y-%m-%d\")\n",
    "\n",
    "    if '2023' in date:\n",
    "        duration = event['duration']\n",
    "        total_duration = duration + total_duration\n",
    "        appname = event['data']['app']\n",
    "\n",
    "        if appname in app_usage:\n",
    "            app_usage[appname] = duration + app_usage[appname]\n",
    "        else:\n",
    "            app_usage[appname] = duration\n",
    "\n",
    "        # if appname != 'LockApp.exe':\n",
    "        if date in dayrecord:\n",
    "            dayrecord[date] += duration\n",
    "        else:\n",
    "            dayrecord[date] = duration\n"
   ]
  },
  {
   "cell_type": "code",
   "execution_count": null,
   "metadata": {},
   "outputs": [],
   "source": [
    "hours = total_duration//3600\n",
    "print(\"Total phone Usage in hours: \", hours)\n",
    "print(\"Total phone Usage in days: \", hours//24)"
   ]
  },
  {
   "cell_type": "code",
   "execution_count": null,
   "metadata": {},
   "outputs": [],
   "source": [
    "app_usage_hourly = {}\n",
    "\n",
    "for k,v in app_usage.items():\n",
    "    usage_time = int(v//3600)\n",
    "    if usage_time > 10:\n",
    "        app_usage_hourly[k] = usage_time\n",
    "\n",
    "print(app_usage_hourly)"
   ]
  },
  {
   "cell_type": "code",
   "execution_count": null,
   "metadata": {},
   "outputs": [],
   "source": [
    "pie = Pie(init_opts=opts.InitOpts(theme=ThemeType.CHALK))\n",
    "\n",
    "t = [list(z) for z in zip(app_usage_hourly.keys(), app_usage_hourly.values())]\n",
    "pie.add(\"\", t)\n",
    "pie.set_global_opts(legend_opts=opts.LegendOpts(is_show=False), title_opts=opts.TitleOpts(title=\"Phone App Usage (in hours)\",  pos_left=\"right\",))\n",
    "pie.set_series_opts(label_opts=opts.LabelOpts(formatter=\"{b}: {c}\"))\n",
    "pie.render()\n",
    "#make_snapshot(snapshot, cal.render(), 'phone_app_usage.png')"
   ]
  },
  {
   "cell_type": "code",
   "execution_count": null,
   "metadata": {},
   "outputs": [],
   "source": [
    "dataToPlot = []\n",
    "\n",
    "for k,v in dayrecord.items():\n",
    "    date_ = datetime.strptime(k, \"%Y-%m-%d\")\n",
    "    if date_.year == 2023:\n",
    "        dataToPlot.append([date_.strftime('%Y-%m-%d'),int(v)//3600])\n"
   ]
  },
  {
   "cell_type": "code",
   "execution_count": null,
   "metadata": {},
   "outputs": [],
   "source": [
    "dataToPlot"
   ]
  },
  {
   "cell_type": "code",
   "execution_count": null,
   "metadata": {},
   "outputs": [],
   "source": [
    "cal = Calendar()\n",
    "cal.add(\"\", dataToPlot, calendar_opts=opts.CalendarOpts(range_=\"2023\"))\n",
    "cal.set_global_opts(\n",
    "        title_opts=opts.TitleOpts(title=\"Phone Usage\", subtitle=\"Hours per day\"),\n",
    "        visualmap_opts=opts.VisualMapOpts(\n",
    "            max_=40,\n",
    "            min_=0,\n",
    "            orient=\"horizontal\",\n",
    "            is_piecewise=True,\n",
    "            pos_top=\"230px\",\n",
    "            pos_left=\"100px\",\n",
    "        ),\n",
    "    )\n",
    "cal.render()\n",
    "\n",
    "# make_snapshot(snapshot, cal.render(), 'PC_usage_heatmap.png')"
   ]
  }
 ],
 "metadata": {
  "kernelspec": {
   "display_name": "Python 3 (ipykernel)",
   "language": "python",
   "name": "python3"
  },
  "language_info": {
   "codemirror_mode": {
    "name": "ipython",
    "version": 3
   },
   "file_extension": ".py",
   "mimetype": "text/x-python",
   "name": "python",
   "nbconvert_exporter": "python",
   "pygments_lexer": "ipython3",
   "version": "3.11.6"
  },
  "vscode": {
   "interpreter": {
    "hash": "916dbcbb3f70747c44a77c7bcd40155683ae19c65e1c03b4aa3499c5328201f1"
   }
  }
 },
 "nbformat": 4,
 "nbformat_minor": 4
}
